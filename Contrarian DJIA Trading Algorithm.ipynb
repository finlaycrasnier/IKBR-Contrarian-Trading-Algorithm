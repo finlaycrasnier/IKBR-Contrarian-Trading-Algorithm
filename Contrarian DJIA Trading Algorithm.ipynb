{
 "cells": [
  {
   "cell_type": "markdown",
   "id": "63c8ed7e",
   "metadata": {},
   "source": [
    "# For our contrarian algorithm, we assume that the most recent (extreme) prices will revert in the near future to their standard price."
   ]
  },
  {
   "cell_type": "markdown",
   "id": "17b32017",
   "metadata": {},
   "source": [
    "### We use yfinance (Yahoo Finance) for stock data and IKBR as a broker. We run this at the end of the trading day."
   ]
  },
  {
   "cell_type": "code",
   "execution_count": 1,
   "id": "b0ad667e",
   "metadata": {},
   "outputs": [],
   "source": [
    "# We start by importing all libaries."
   ]
  },
  {
   "cell_type": "code",
   "execution_count": 2,
   "id": "be778823",
   "metadata": {},
   "outputs": [],
   "source": [
    "import pandas as pd\n",
    "import yfinance as yf\n",
    "from ib_insync import *\n",
    "util.startLoop()"
   ]
  },
  {
   "cell_type": "code",
   "execution_count": 3,
   "id": "f90e4cf7",
   "metadata": {},
   "outputs": [],
   "source": [
    "# We set our parameters to use later"
   ]
  },
  {
   "cell_type": "code",
   "execution_count": 4,
   "id": "39e3767b",
   "metadata": {},
   "outputs": [],
   "source": [
    "top_stocks = 3 # The top N stocks that increased the most\n",
    "bottom_stocks = 3 # The bottom N stocks that decreased the most\n",
    "shares = 1 # How many shares we purchase of each stock"
   ]
  },
  {
   "cell_type": "code",
   "execution_count": 5,
   "id": "9449bbd9",
   "metadata": {},
   "outputs": [],
   "source": [
    "# Next, we pull the tickers in the DJIA index."
   ]
  },
  {
   "cell_type": "code",
   "execution_count": 6,
   "id": "3a608642",
   "metadata": {},
   "outputs": [],
   "source": [
    "url = \"https://en.wikipedia.org/wiki/Dow_Jones_Industrial_Average\"\n",
    "df = pd.read_html(url)[1]\n",
    "df.set_index(\"Symbol\", inplace = True)\n",
    "tickers = df.index.to_list()"
   ]
  },
  {
   "cell_type": "code",
   "execution_count": 7,
   "id": "baa4cf89",
   "metadata": {},
   "outputs": [],
   "source": [
    "# We gather the percentage change in our chosen stocks."
   ]
  },
  {
   "cell_type": "code",
   "execution_count": 8,
   "id": "d17e6e2f",
   "metadata": {},
   "outputs": [
    {
     "name": "stdout",
     "output_type": "stream",
     "text": [
      "yfinance: Note: 'Ticker.info' dict is now fixed & improved, 'fast_info' is no longer faster\n",
      "30/30\r"
     ]
    }
   ],
   "source": [
    "stock_changes = pd.Series(dtype = float)\n",
    "\n",
    "for ticker in tickers:\n",
    "    current_close = yf.Ticker(ticker = ticker).fast_info[\"last_price\"]\n",
    "    past_close = yf.Ticker(ticker = ticker).fast_info[\"previous_close\"]\n",
    "    percentage_change = current_close / past_close - 1\n",
    "    stock_changes.loc[ticker] = percentage_change\n",
    "    print(\"{}/{}\".format(tickers.index(ticker)+1, len(tickers)), end = '\\r')"
   ]
  },
  {
   "cell_type": "code",
   "execution_count": 9,
   "id": "07b3aa0a",
   "metadata": {},
   "outputs": [],
   "source": [
    "# We find the 3 biggest percentage increases and assign a + share amount (denoting buy)"
   ]
  },
  {
   "cell_type": "code",
   "execution_count": 10,
   "id": "1832b9d9",
   "metadata": {},
   "outputs": [],
   "source": [
    "stock_changes.sort_values(inplace = True, ascending= False)\n",
    "sorted_descending_list = stock_changes[:top_stocks]\n",
    "sorted_descending_list.iloc[:] = shares"
   ]
  },
  {
   "cell_type": "code",
   "execution_count": 11,
   "id": "dfab2bdc",
   "metadata": {},
   "outputs": [],
   "source": [
    "# We find the 3 smallest percentage increases and assign a - share amount (denoting sell)"
   ]
  },
  {
   "cell_type": "code",
   "execution_count": 12,
   "id": "c786172c",
   "metadata": {},
   "outputs": [],
   "source": [
    "stock_changes.sort_values(inplace = True, ascending= True)\n",
    "sorted_ascending_list = stock_changes[:bottom_stocks]\n",
    "sorted_ascending_list.iloc[:] = -shares"
   ]
  },
  {
   "cell_type": "code",
   "execution_count": 13,
   "id": "114cac3a",
   "metadata": {},
   "outputs": [],
   "source": [
    "# We amalgamate the list"
   ]
  },
  {
   "cell_type": "code",
   "execution_count": 14,
   "id": "aaf8651f",
   "metadata": {},
   "outputs": [],
   "source": [
    "trade_list = pd.concat([sorted_descending_list, sorted_ascending_list]).to_frame().reset_index()\n",
    "trade_list.columns = [\"symbol\", \"position\"]"
   ]
  },
  {
   "cell_type": "code",
   "execution_count": 15,
   "id": "18a72c28",
   "metadata": {},
   "outputs": [],
   "source": [
    "# We connect to Interactive Brokers"
   ]
  },
  {
   "cell_type": "code",
   "execution_count": 16,
   "id": "70068848",
   "metadata": {},
   "outputs": [
    {
     "data": {
      "text/plain": [
       "<IB connected to 127.0.0.1:7497 clientId=1>"
      ]
     },
     "execution_count": 16,
     "metadata": {},
     "output_type": "execute_result"
    }
   ],
   "source": [
    "ib = IB()\n",
    "ib.connect()"
   ]
  },
  {
   "cell_type": "code",
   "execution_count": 17,
   "id": "a78a54c5",
   "metadata": {},
   "outputs": [],
   "source": [
    "# We check our current positions (if we already hold a stock, we don't need to repurchase it)"
   ]
  },
  {
   "cell_type": "code",
   "execution_count": 18,
   "id": "d3309be0",
   "metadata": {},
   "outputs": [
    {
     "data": {
      "text/html": [
       "<div>\n",
       "<style scoped>\n",
       "    .dataframe tbody tr th:only-of-type {\n",
       "        vertical-align: middle;\n",
       "    }\n",
       "\n",
       "    .dataframe tbody tr th {\n",
       "        vertical-align: top;\n",
       "    }\n",
       "\n",
       "    .dataframe thead th {\n",
       "        text-align: right;\n",
       "    }\n",
       "</style>\n",
       "<table border=\"1\" class=\"dataframe\">\n",
       "  <thead>\n",
       "    <tr style=\"text-align: right;\">\n",
       "      <th></th>\n",
       "      <th>account</th>\n",
       "      <th>contract</th>\n",
       "      <th>position</th>\n",
       "      <th>avgCost</th>\n",
       "    </tr>\n",
       "  </thead>\n",
       "  <tbody>\n",
       "    <tr>\n",
       "      <th>0</th>\n",
       "      <td>DU7142246</td>\n",
       "      <td>Stock(conId=266145, symbol='AMGN', exchange='N...</td>\n",
       "      <td>1.0</td>\n",
       "      <td>236.9100</td>\n",
       "    </tr>\n",
       "    <tr>\n",
       "      <th>1</th>\n",
       "      <td>DU7142246</td>\n",
       "      <td>Stock(conId=270639, symbol='INTC', exchange='N...</td>\n",
       "      <td>1.0</td>\n",
       "      <td>31.7069</td>\n",
       "    </tr>\n",
       "  </tbody>\n",
       "</table>\n",
       "</div>"
      ],
      "text/plain": [
       "     account                                           contract  position  \\\n",
       "0  DU7142246  Stock(conId=266145, symbol='AMGN', exchange='N...       1.0   \n",
       "1  DU7142246  Stock(conId=270639, symbol='INTC', exchange='N...       1.0   \n",
       "\n",
       "    avgCost  \n",
       "0  236.9100  \n",
       "1   31.7069  "
      ]
     },
     "execution_count": 18,
     "metadata": {},
     "output_type": "execute_result"
    }
   ],
   "source": [
    "current_positions = util.df(ib.positions())\n",
    "current_positions"
   ]
  },
  {
   "cell_type": "code",
   "execution_count": 19,
   "id": "dc4ecffd",
   "metadata": {},
   "outputs": [],
   "source": [
    "# We create an empty data frame if there is no data to pull from (in the case that current_positions is empty)"
   ]
  },
  {
   "cell_type": "code",
   "execution_count": 20,
   "id": "922e8288",
   "metadata": {},
   "outputs": [],
   "source": [
    "if current_positions is not None:\n",
    "    current_positions[\"symbol\"] = current_positions.contract.apply(lambda x: x.symbol)\n",
    "    current_positions[\"conID\"] = current_positions.contract.apply(lambda x: x.conId)\n",
    "else: \n",
    "    current_positions = pd.DataFrame(columns = [\"symbol\", \"position\"])"
   ]
  },
  {
   "cell_type": "code",
   "execution_count": 21,
   "id": "5cfa9ce9",
   "metadata": {},
   "outputs": [],
   "source": [
    "# We merge our current_positions with our trade_list to see which stocks we need to buy or sell"
   ]
  },
  {
   "cell_type": "code",
   "execution_count": 22,
   "id": "d939b857",
   "metadata": {},
   "outputs": [],
   "source": [
    "trades = pd.merge(trade_list, current_positions[[\"symbol\", \"position\"]], \"outer\", on = \"symbol\", suffixes = [\"_totrade\", \"_current\"])\n",
    "trades.fillna(0, inplace = True)\n",
    "trades[\"trades\"] = trades.position_totrade - trades.position_current\n",
    "final_trades = trades[trades.trades !=0].set_index(\"symbol\").copy()"
   ]
  },
  {
   "cell_type": "code",
   "execution_count": 23,
   "id": "1b5f9ced",
   "metadata": {},
   "outputs": [],
   "source": [
    "# We run a loop to execute our trades (if applicable)"
   ]
  },
  {
   "cell_type": "code",
   "execution_count": 24,
   "id": "0c35faea",
   "metadata": {},
   "outputs": [
    {
     "name": "stdout",
     "output_type": "stream",
     "text": [
      "BUY DOW failed.\n",
      "SELL DIS failed.\n",
      "SELL HD failed.\n",
      "SELL GS failed.\n"
     ]
    }
   ],
   "source": [
    "for symbol in final_trades.index: # We loop through our ticker symbols\n",
    "    \n",
    "    to_trade = final_trades.loc[symbol, \"trades\"] # We read if we buy, sell, or do nothing for our current ticker\n",
    "    if to_trade > 0: \n",
    "        side = \"BUY\"\n",
    "    elif to_trade < 0:\n",
    "        side = \"SELL\"\n",
    "    else:\n",
    "        continue\n",
    "\n",
    "    contract = Stock(symbol, \"SMART\", \"USD\") # We create a contract for our ticker symbol\n",
    "    cds = ib.reqContractDetails(contract) # We pull information from the contract\n",
    "    if len(cds) == 0:\n",
    "        print(\"No Contract for {} found.\".format(symbol))\n",
    "    else:\n",
    "        contract = cds[0].contract # We pull the first contract (if there are one or multiple contracts)\n",
    "    \n",
    "        order = MarketOrder(side, abs(to_trade)) # We create our order\n",
    "        trade = ib.placeOrder(contract, order) # We place our order\n",
    "        \n",
    "        while not trade.isDone(): # We add a pause to wait for our order to go through\n",
    "            ib.waitOnUpdate()\n",
    "        \n",
    "        if trade.orderStatus.status == \"Filled\": # We return a trade status update\n",
    "            print(\"{} {} @ {}\".format(side, symbol, trade.orderStatus.avgFillPrice))\n",
    "        else:\n",
    "            print(\"{} {} failed.\".format(side, symbol))"
   ]
  },
  {
   "cell_type": "code",
   "execution_count": 25,
   "id": "b493a162",
   "metadata": {},
   "outputs": [],
   "source": [
    "# We recheck our current positions to confirm that our trades have executed"
   ]
  },
  {
   "cell_type": "code",
   "execution_count": 26,
   "id": "64abf751",
   "metadata": {},
   "outputs": [
    {
     "data": {
      "text/html": [
       "<div>\n",
       "<style scoped>\n",
       "    .dataframe tbody tr th:only-of-type {\n",
       "        vertical-align: middle;\n",
       "    }\n",
       "\n",
       "    .dataframe tbody tr th {\n",
       "        vertical-align: top;\n",
       "    }\n",
       "\n",
       "    .dataframe thead th {\n",
       "        text-align: right;\n",
       "    }\n",
       "</style>\n",
       "<table border=\"1\" class=\"dataframe\">\n",
       "  <thead>\n",
       "    <tr style=\"text-align: right;\">\n",
       "      <th></th>\n",
       "      <th>account</th>\n",
       "      <th>contract</th>\n",
       "      <th>position</th>\n",
       "      <th>avgCost</th>\n",
       "      <th>symbol</th>\n",
       "      <th>conID</th>\n",
       "    </tr>\n",
       "  </thead>\n",
       "  <tbody>\n",
       "    <tr>\n",
       "      <th>0</th>\n",
       "      <td>DU7142246</td>\n",
       "      <td>Stock(conId=266145, symbol='AMGN', exchange='N...</td>\n",
       "      <td>1.0</td>\n",
       "      <td>236.9100</td>\n",
       "      <td>AMGN</td>\n",
       "      <td>266145</td>\n",
       "    </tr>\n",
       "    <tr>\n",
       "      <th>1</th>\n",
       "      <td>DU7142246</td>\n",
       "      <td>Stock(conId=270639, symbol='INTC', exchange='N...</td>\n",
       "      <td>1.0</td>\n",
       "      <td>31.7069</td>\n",
       "      <td>INTC</td>\n",
       "      <td>270639</td>\n",
       "    </tr>\n",
       "  </tbody>\n",
       "</table>\n",
       "</div>"
      ],
      "text/plain": [
       "     account                                           contract  position  \\\n",
       "0  DU7142246  Stock(conId=266145, symbol='AMGN', exchange='N...       1.0   \n",
       "1  DU7142246  Stock(conId=270639, symbol='INTC', exchange='N...       1.0   \n",
       "\n",
       "    avgCost symbol   conID  \n",
       "0  236.9100   AMGN  266145  \n",
       "1   31.7069   INTC  270639  "
      ]
     },
     "execution_count": 26,
     "metadata": {},
     "output_type": "execute_result"
    }
   ],
   "source": [
    "current_positions = util.df(ib.positions())\n",
    "current_positions[\"symbol\"] = current_positions.contract.apply(lambda x: x.symbol)\n",
    "current_positions[\"conID\"] = current_positions.contract.apply(lambda x: x.conId)\n",
    "current_positions"
   ]
  },
  {
   "cell_type": "code",
   "execution_count": 27,
   "id": "ff36e88e",
   "metadata": {},
   "outputs": [],
   "source": [
    "# We disconnect from Interactive Brokers"
   ]
  },
  {
   "cell_type": "code",
   "execution_count": 28,
   "id": "3f440987",
   "metadata": {},
   "outputs": [],
   "source": [
    "ib.disconnect()"
   ]
  },
  {
   "cell_type": "code",
   "execution_count": null,
   "id": "34cbc426",
   "metadata": {},
   "outputs": [],
   "source": []
  }
 ],
 "metadata": {
  "kernelspec": {
   "display_name": "Python 3 (ipykernel)",
   "language": "python",
   "name": "python3"
  },
  "language_info": {
   "codemirror_mode": {
    "name": "ipython",
    "version": 3
   },
   "file_extension": ".py",
   "mimetype": "text/x-python",
   "name": "python",
   "nbconvert_exporter": "python",
   "pygments_lexer": "ipython3",
   "version": "3.9.13"
  }
 },
 "nbformat": 4,
 "nbformat_minor": 5
}
