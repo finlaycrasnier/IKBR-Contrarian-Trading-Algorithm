{
 "cells": [
  {
   "cell_type": "markdown",
   "id": "fc25b1bb",
   "metadata": {},
   "source": [
    "# For our contrarian algorithm, we assume that the most recent (extreme) prices will revert in the near future to their standard price."
   ]
  },
  {
   "cell_type": "markdown",
   "id": "e1084b94",
   "metadata": {},
   "source": [
    "### We use yfinance (Yahoo Finance) for stock data and IKBR as a broker. We run this at the end of the trading day."
   ]
  },
  {
   "cell_type": "code",
   "execution_count": null,
   "id": "78d0985b",
   "metadata": {},
   "outputs": [],
   "source": [
    "# We start by importing all libaries."
   ]
  },
  {
   "cell_type": "code",
   "execution_count": null,
   "id": "6214343c",
   "metadata": {},
   "outputs": [],
   "source": [
    "import pandas as pd\n",
    "import yfinance as yf\n",
    "from ib_insync import *\n",
    "util.startLoop()"
   ]
  },
  {
   "cell_type": "code",
   "execution_count": null,
   "id": "0d8bf1bf",
   "metadata": {},
   "outputs": [],
   "source": [
    "# We set our parameters to use later"
   ]
  },
  {
   "cell_type": "code",
   "execution_count": null,
   "id": "27812a40",
   "metadata": {},
   "outputs": [],
   "source": [
    "top_stocks = 3 # The top N stocks that increased the most\n",
    "bottom_stocks = 3 # The bottom N stocks that decreased the most\n",
    "shares = 1 # How many shares we purchase of each stock"
   ]
  },
  {
   "cell_type": "code",
   "execution_count": null,
   "id": "840cbfad",
   "metadata": {},
   "outputs": [],
   "source": [
    "# Next, we pull the tickers in the DJIA index."
   ]
  },
  {
   "cell_type": "code",
   "execution_count": null,
   "id": "dd4d4f24",
   "metadata": {},
   "outputs": [],
   "source": [
    "url = \"https://en.wikipedia.org/wiki/Dow_Jones_Industrial_Average\"\n",
    "df = pd.read_html(url)[1]\n",
    "df.set_index(\"Symbol\", inplace = True)\n",
    "tickers = df.index.to_list()"
   ]
  },
  {
   "cell_type": "code",
   "execution_count": null,
   "id": "614d2220",
   "metadata": {},
   "outputs": [],
   "source": [
    "# We gather the percentage change in our chosen stocks."
   ]
  },
  {
   "cell_type": "code",
   "execution_count": null,
   "id": "c5dba64d",
   "metadata": {},
   "outputs": [],
   "source": [
    "stock_changes = pd.Series(dtype = float)\n",
    "\n",
    "for ticker in tickers:\n",
    "    current_close = yf.Ticker(ticker = ticker).fast_info[\"last_price\"]\n",
    "    past_close = yf.Ticker(ticker = ticker).fast_info[\"previous_close\"]\n",
    "    percentage_change = current_close / past_close - 1\n",
    "    stock_changes.loc[ticker] = percentage_change\n",
    "    print(\"{}/{}\".format(tickers.index(ticker)+1, len(tickers)), end = '\\r')"
   ]
  },
  {
   "cell_type": "code",
   "execution_count": null,
   "id": "45675445",
   "metadata": {},
   "outputs": [],
   "source": [
    "# We find the 3 biggest percentage increases and assign a + share amount (denoting buy)"
   ]
  },
  {
   "cell_type": "code",
   "execution_count": null,
   "id": "72e3852d",
   "metadata": {},
   "outputs": [],
   "source": [
    "stock_changes.sort_values(inplace = True, ascending= False)\n",
    "sorted_descending_list = stock_changes[:top_stocks]\n",
    "sorted_descending_list.iloc[:] = shares"
   ]
  },
  {
   "cell_type": "code",
   "execution_count": null,
   "id": "587eb247",
   "metadata": {},
   "outputs": [],
   "source": [
    "# We find the 3 smallest percentage increases and assign a - share amount (denoting sell)"
   ]
  },
  {
   "cell_type": "code",
   "execution_count": null,
   "id": "06f1991c",
   "metadata": {},
   "outputs": [],
   "source": [
    "stock_changes.sort_values(inplace = True, ascending= True)\n",
    "sorted_ascending_list = stock_changes[:bottom_stocks]\n",
    "sorted_ascending_list.iloc[:] = -shares"
   ]
  },
  {
   "cell_type": "code",
   "execution_count": null,
   "id": "a748003f",
   "metadata": {},
   "outputs": [],
   "source": [
    "# We amalgamate the list"
   ]
  },
  {
   "cell_type": "code",
   "execution_count": null,
   "id": "f1c06cab",
   "metadata": {},
   "outputs": [],
   "source": [
    "trade_list = pd.concat([sorted_descending_list, sorted_ascending_list]).to_frame().reset_index()\n",
    "trade_list.columns = [\"symbol\", \"position\"]"
   ]
  },
  {
   "cell_type": "code",
   "execution_count": null,
   "id": "6a47b36c",
   "metadata": {},
   "outputs": [],
   "source": [
    "# We connect to Interactive Brokers"
   ]
  },
  {
   "cell_type": "code",
   "execution_count": null,
   "id": "0571338d",
   "metadata": {},
   "outputs": [],
   "source": [
    "ib = IB()\n",
    "ib.connect()"
   ]
  },
  {
   "cell_type": "code",
   "execution_count": null,
   "id": "e2eead83",
   "metadata": {},
   "outputs": [],
   "source": [
    "# We check our current positions (if we already hold a stock, we don't need to repurchase it)"
   ]
  },
  {
   "cell_type": "code",
   "execution_count": null,
   "id": "2d45e9f5",
   "metadata": {},
   "outputs": [],
   "source": [
    "current_positions = util.df(ib.positions())"
   ]
  },
  {
   "cell_type": "code",
   "execution_count": null,
   "id": "05220fde",
   "metadata": {},
   "outputs": [],
   "source": [
    "# We create an empty data frame if there is no data to pull from (in the case that current_positions is empty)"
   ]
  },
  {
   "cell_type": "code",
   "execution_count": null,
   "id": "85d24112",
   "metadata": {},
   "outputs": [],
   "source": [
    "if current_positions is not None:\n",
    "    current_positions[\"symbol\"] = current_positions.contract.apply(lambda x: x.symbol)\n",
    "    current_positions[\"conID\"] = current_positions.contract.apply(lambda x: x.conId)\n",
    "else: \n",
    "    current_positions = pd.DataFrame(columns = [\"symbol\", \"position\"])"
   ]
  },
  {
   "cell_type": "code",
   "execution_count": null,
   "id": "18019ed5",
   "metadata": {},
   "outputs": [],
   "source": [
    "# We merge our current_positions with our trade_list to see which stocks we need to buy or sell"
   ]
  },
  {
   "cell_type": "code",
   "execution_count": null,
   "id": "776aaf4e",
   "metadata": {},
   "outputs": [],
   "source": [
    "trades = pd.merge(trade_list, current_positions[[\"symbol\", \"position\"]], \"outer\", on = \"symbol\", suffixes = [\"_totrade\", \"_current\"])\n",
    "trades.fillna(0, inplace = True)\n",
    "trades[\"trades\"] = trades.position_totrade - trades.position_current\n",
    "final_trades = trades[trades.trades !=0].set_index(\"symbol\").copy()"
   ]
  },
  {
   "cell_type": "code",
   "execution_count": null,
   "id": "def0e74d",
   "metadata": {},
   "outputs": [],
   "source": [
    "# We run a loop to execute our trades (if applicable)"
   ]
  },
  {
   "cell_type": "code",
   "execution_count": null,
   "id": "2a9131c7",
   "metadata": {},
   "outputs": [],
   "source": [
    "for symbol in final_trades.index: # We loop through our ticker symbols\n",
    "    \n",
    "    to_trade = final_trades.loc[symbol, \"trades\"] # We read if we buy, sell, or do nothing for our current ticker\n",
    "    if to_trade > 0: \n",
    "        side = \"BUY\"\n",
    "    elif to_trade < 0:\n",
    "        side = \"SELL\"\n",
    "    else:\n",
    "        continue\n",
    "\n",
    "    contract = Stock(symbol, \"SMART\", \"USD\") # We create a contract for our ticker symbol\n",
    "    cds = ib.reqContractDetails(contract) # We pull information from the contract\n",
    "    if len(cds) == 0:\n",
    "        print(\"No Contract for {} found.\".format(symbol))\n",
    "    else:\n",
    "        contract = cds[0].contract # We pull the first contract (if there are one or multiple contracts)\n",
    "    \n",
    "        order = MarketOrder(side, abs(to_trade)) # We create our order\n",
    "        trade = ib.placeOrder(contract, order) # We place our order\n",
    "        \n",
    "        while not trade.isDone(): # We add a pause to wait for our order to go through\n",
    "            ib.waitOnUpdate()\n",
    "        \n",
    "        if trade.orderStatus.status == \"Filled\": # We return a trade status update\n",
    "            print(\"{} {} @ {}\".format(side, symbol, trade.orderStatus.avgFillPrice))\n",
    "        else:\n",
    "            print(\"{} {} failed.\".format(side, symbol))"
   ]
  },
  {
   "cell_type": "code",
   "execution_count": null,
   "id": "50f8425f",
   "metadata": {},
   "outputs": [],
   "source": [
    "# We check our current positions to confirm that our trades have been executed"
   ]
  },
  {
   "cell_type": "code",
   "execution_count": null,
   "id": "7675a979",
   "metadata": {},
   "outputs": [],
   "source": [
    "current_positions = util.df(ib.positions())\n",
    "current_positions[\"symbol\"] = current_positions.contract.apply(lambda x: x.symbol)\n",
    "current_positions[\"conID\"] = current_positions.contract.apply(lambda x: x.conId)\n",
    "current_positions"
   ]
  },
  {
   "cell_type": "code",
   "execution_count": null,
   "id": "52215f35",
   "metadata": {},
   "outputs": [],
   "source": [
    "# We disconnect from Interactive Brokers"
   ]
  },
  {
   "cell_type": "code",
   "execution_count": null,
   "id": "57248447",
   "metadata": {},
   "outputs": [],
   "source": [
    "ib.disconnect()"
   ]
  }
 ],
 "metadata": {
  "kernelspec": {
   "display_name": "Python 3 (ipykernel)",
   "language": "python",
   "name": "python3"
  },
  "language_info": {
   "codemirror_mode": {
    "name": "ipython",
    "version": 3
   },
   "file_extension": ".py",
   "mimetype": "text/x-python",
   "name": "python",
   "nbconvert_exporter": "python",
   "pygments_lexer": "ipython3",
   "version": "3.9.13"
  }
 },
 "nbformat": 4,
 "nbformat_minor": 5
}
