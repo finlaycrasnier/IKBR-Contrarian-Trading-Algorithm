{
 "cells": [
  {
   "cell_type": "markdown",
   "id": "e51943fd",
   "metadata": {},
   "source": [
    "# For our contrarian algorithm, we assume that the most recent (extreme) prices will revert in the near future to their standard price."
   ]
  },
  {
   "cell_type": "markdown",
   "id": "2fdd1fde",
   "metadata": {},
   "source": [
    "### We use yfinance (Yahoo Finance) for stock data and IKBR as a broker. We run this at the end of the trading day."
   ]
  },
  {
   "cell_type": "code",
   "execution_count": null,
   "id": "0cdd9d4b",
   "metadata": {},
   "outputs": [],
   "source": [
    "# We start by importing all libaries."
   ]
  },
  {
   "cell_type": "code",
   "execution_count": null,
   "id": "054b49a1",
   "metadata": {},
   "outputs": [],
   "source": [
    "import pandas as pd\n",
    "import yfinance as yf\n",
    "from ib_insync import *\n",
    "util.startLoop()"
   ]
  },
  {
   "cell_type": "code",
   "execution_count": null,
   "id": "3f757a0b",
   "metadata": {},
   "outputs": [],
   "source": [
    "# We set our parameters to use later"
   ]
  },
  {
   "cell_type": "code",
   "execution_count": null,
   "id": "85457cd9",
   "metadata": {},
   "outputs": [],
   "source": [
    "top_stocks = 3 # The top N stocks that increased the most\n",
    "bottom_stocks = 3 # The bottom N stocks that decreased the most\n",
    "shares = 1 # How many shares we purchase of each stock"
   ]
  },
  {
   "cell_type": "code",
   "execution_count": null,
   "id": "ab21ba98",
   "metadata": {},
   "outputs": [],
   "source": [
    "# Next, we pull the tickers in the DJIA index."
   ]
  },
  {
   "cell_type": "code",
   "execution_count": null,
   "id": "9e585af0",
   "metadata": {},
   "outputs": [],
   "source": [
    "url = \"https://en.wikipedia.org/wiki/Dow_Jones_Industrial_Average\"\n",
    "df = pd.read_html(url)[1]\n",
    "df.set_index(\"Symbol\", inplace = True)\n",
    "tickers = df.index.to_list()"
   ]
  },
  {
   "cell_type": "code",
   "execution_count": null,
   "id": "e45efe4c",
   "metadata": {},
   "outputs": [],
   "source": [
    "# We gather the percentage change in our chosen stocks."
   ]
  },
  {
   "cell_type": "code",
   "execution_count": null,
   "id": "8db053f7",
   "metadata": {},
   "outputs": [],
   "source": [
    "stock_changes = pd.Series(dtype = float)\n",
    "\n",
    "for ticker in tickers:\n",
    "    current_close = yf.Ticker(ticker = ticker).fast_info[\"last_price\"]\n",
    "    past_close = yf.Ticker(ticker = ticker).fast_info[\"previous_close\"]\n",
    "    percentage_change = current_close / past_close - 1\n",
    "    stock_changes.loc[ticker] = percentage_change\n",
    "    print(\"{}/{}\".format(tickers.index(ticker)+1, len(tickers)), end = '\\r')"
   ]
  },
  {
   "cell_type": "code",
   "execution_count": null,
   "id": "971e8eb2",
   "metadata": {},
   "outputs": [],
   "source": [
    "# We find the 3 biggest percentage increases and assign a + share amount (denoting buy)"
   ]
  },
  {
   "cell_type": "code",
   "execution_count": null,
   "id": "f13341c3",
   "metadata": {},
   "outputs": [],
   "source": [
    "stock_changes.sort_values(inplace = True, ascending= False)\n",
    "sorted_descending_list = stock_changes[:top_stocks]\n",
    "sorted_descending_list.iloc[:] = shares"
   ]
  },
  {
   "cell_type": "code",
   "execution_count": null,
   "id": "e55d261b",
   "metadata": {},
   "outputs": [],
   "source": [
    "# We find the 3 smallest percentage increases and assign a - share amount (denoting sell)"
   ]
  },
  {
   "cell_type": "code",
   "execution_count": null,
   "id": "bce46b78",
   "metadata": {},
   "outputs": [],
   "source": [
    "stock_changes.sort_values(inplace = True, ascending= True)\n",
    "sorted_ascending_list = stock_changes[:bottom_stocks]\n",
    "sorted_ascending_list.iloc[:] = -shares"
   ]
  },
  {
   "cell_type": "code",
   "execution_count": null,
   "id": "deb3e79f",
   "metadata": {},
   "outputs": [],
   "source": [
    "# We amalgamate the list"
   ]
  },
  {
   "cell_type": "code",
   "execution_count": null,
   "id": "16cfc7e4",
   "metadata": {},
   "outputs": [],
   "source": [
    "trade_list = pd.concat([sorted_descending_list, sorted_ascending_list]).to_frame().reset_index()\n",
    "trade_list.columns = [\"symbol\", \"position\"]"
   ]
  },
  {
   "cell_type": "code",
   "execution_count": null,
   "id": "f9e06c34",
   "metadata": {},
   "outputs": [],
   "source": [
    "# We connect to Interactive Brokers"
   ]
  },
  {
   "cell_type": "code",
   "execution_count": null,
   "id": "11819293",
   "metadata": {},
   "outputs": [],
   "source": [
    "ib = IB()\n",
    "ib.connect()"
   ]
  },
  {
   "cell_type": "code",
   "execution_count": null,
   "id": "520267d0",
   "metadata": {},
   "outputs": [],
   "source": [
    "# We check our current positions (if we already hold a stock, we don't need to repurchase it)"
   ]
  },
  {
   "cell_type": "code",
   "execution_count": null,
   "id": "444fa00e",
   "metadata": {},
   "outputs": [],
   "source": [
    "current_positions = util.df(ib.positions())"
   ]
  },
  {
   "cell_type": "code",
   "execution_count": null,
   "id": "5823f9b8",
   "metadata": {},
   "outputs": [],
   "source": [
    "# We create an empty data frame if there is no data to pull from (in the case that current_positions is empty)"
   ]
  },
  {
   "cell_type": "code",
   "execution_count": null,
   "id": "26524da6",
   "metadata": {},
   "outputs": [],
   "source": [
    "if current_positions is not None:\n",
    "    current_positions[\"symbol\"] = current_positions.contract.apply(lambda x: x.symbol)\n",
    "    current_positions[\"conID\"] = current_positions.contract.apply(lambda x: x.conId)\n",
    "else: \n",
    "    current_positions = pd.DataFrame(columns = [\"symbol\", \"position\"])"
   ]
  },
  {
   "cell_type": "code",
   "execution_count": null,
   "id": "d948b90f",
   "metadata": {},
   "outputs": [],
   "source": [
    "# We merge our current_positions with our trade_list to see which stocks we need to buy or sell"
   ]
  },
  {
   "cell_type": "code",
   "execution_count": null,
   "id": "1116999f",
   "metadata": {},
   "outputs": [],
   "source": [
    "trades = pd.merge(trade_list, current_positions[[\"symbol\", \"position\"]], \"outer\", on = \"symbol\", suffixes = [\"_totrade\", \"_current\"])\n",
    "trades.fillna(0, inplace = True)\n",
    "trades[\"trades\"] = trades.position_totrade - trades.position_current\n",
    "final_trades = trades[trades.trades !=0].set_index(\"symbol\").copy()"
   ]
  },
  {
   "cell_type": "code",
   "execution_count": null,
   "id": "b00e4f9b",
   "metadata": {},
   "outputs": [],
   "source": [
    "# We run a loop to execute our trades (if applicable)"
   ]
  },
  {
   "cell_type": "code",
   "execution_count": null,
   "id": "2f2c369c",
   "metadata": {},
   "outputs": [],
   "source": [
    "for symbol in final_trades.index: # We loop through our ticker symbols\n",
    "    \n",
    "    to_trade = final_trades.loc[symbol, \"trades\"] # We read if we buy, sell, or do nothing for our current ticker\n",
    "    if to_trade > 0: \n",
    "        side = \"BUY\"\n",
    "    elif to_trade < 0:\n",
    "        side = \"SELL\"\n",
    "    else:\n",
    "        continue\n",
    "\n",
    "    contract = Stock(symbol, \"SMART\", \"USD\") # We create a contract for our ticker symbol\n",
    "    cds = ib.reqContractDetails(contract) # We pull information from the contract\n",
    "    if len(cds) == 0:\n",
    "        print(\"No Contract for {} found.\".format(symbol))\n",
    "    else:\n",
    "        contract = cds[0].contract # We pull the first contract (if there are one or multiple contracts)\n",
    "    \n",
    "        order = MarketOrder(side, abs(to_trade)) # We create our order\n",
    "        trade = ib.placeOrder(contract, order) # We place our order\n",
    "        \n",
    "        while not trade.isDone(): # We add a pause to wait for our order to go through\n",
    "            ib.waitOnUpdate()\n",
    "        \n",
    "        if trade.orderStatus.status == \"Filled\": # We return a trade status update\n",
    "            print(\"{} {} @ {}\".format(side, symbol, trade.orderStatus.avgFillPrice))\n",
    "        else:\n",
    "            print(\"{} {} failed.\".format(side, symbol))"
   ]
  },
  {
   "cell_type": "code",
   "execution_count": null,
   "id": "b11cfdd7",
   "metadata": {},
   "outputs": [],
   "source": [
    "# We recheck our current positions to confirm that our trades have executed"
   ]
  },
  {
   "cell_type": "code",
   "execution_count": null,
   "id": "ac98632d",
   "metadata": {},
   "outputs": [],
   "source": [
    "current_positions = util.df(ib.positions())\n",
    "current_positions[\"symbol\"] = current_positions.contract.apply(lambda x: x.symbol)\n",
    "current_positions[\"conID\"] = current_positions.contract.apply(lambda x: x.conId)\n",
    "current_positions"
   ]
  },
  {
   "cell_type": "code",
   "execution_count": null,
   "id": "7b90dda8",
   "metadata": {},
   "outputs": [],
   "source": [
    "# We disconnect from Interactive Brokers"
   ]
  },
  {
   "cell_type": "code",
   "execution_count": null,
   "id": "aa5c4cea",
   "metadata": {},
   "outputs": [],
   "source": [
    "ib.disconnect()"
   ]
  },
  {
   "cell_type": "code",
   "execution_count": null,
   "id": "b733b013",
   "metadata": {},
   "outputs": [],
   "source": []
  }
 ],
 "metadata": {
  "kernelspec": {
   "display_name": "Python 3 (ipykernel)",
   "language": "python",
   "name": "python3"
  },
  "language_info": {
   "codemirror_mode": {
    "name": "ipython",
    "version": 3
   },
   "file_extension": ".py",
   "mimetype": "text/x-python",
   "name": "python",
   "nbconvert_exporter": "python",
   "pygments_lexer": "ipython3",
   "version": "3.9.13"
  }
 },
 "nbformat": 4,
 "nbformat_minor": 5
}
